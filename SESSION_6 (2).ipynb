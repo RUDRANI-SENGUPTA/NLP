{
 "cells": [
  {
   "cell_type": "code",
   "execution_count": 1,
   "id": "1fe20596",
   "metadata": {},
   "outputs": [],
   "source": [
    "#Vectorisation of tokens and similarity of documents\n",
    "#tokens into numbers and vectors->vectorisation\n",
    "#Bag of words->if we remove the stop words, we get the nouns\n",
    "#TFIDF-TERM FREQUENCY INVERSE DOCUMENT FREQUENCY\n",
    "#WORD2VEC"
   ]
  },
  {
   "cell_type": "code",
   "execution_count": 2,
   "id": "223e85b4",
   "metadata": {},
   "outputs": [
    {
     "name": "stdout",
     "output_type": "stream",
     "text": [
      "Requirement already satisfied: gensim in c:\\users\\rudrani\\anaconda3\\lib\\site-packages (4.1.2)\n",
      "Requirement already satisfied: scipy>=0.18.1 in c:\\users\\rudrani\\anaconda3\\lib\\site-packages (from gensim) (1.9.1)\n",
      "Requirement already satisfied: smart-open>=1.8.1 in c:\\users\\rudrani\\anaconda3\\lib\\site-packages (from gensim) (5.2.1)\n",
      "Requirement already satisfied: numpy>=1.17.0 in c:\\users\\rudrani\\anaconda3\\lib\\site-packages (from gensim) (1.21.5)\n"
     ]
    }
   ],
   "source": [
    "!pip install gensim"
   ]
  },
  {
   "cell_type": "code",
   "execution_count": 3,
   "id": "a42d9577",
   "metadata": {},
   "outputs": [
    {
     "name": "stderr",
     "output_type": "stream",
     "text": [
      "C:\\Users\\Rudrani\\anaconda3\\lib\\site-packages\\cupy\\_environment.py:213: UserWarning: CUDA path could not be detected. Set CUDA_PATH environment variable if CuPy fails to load.\n",
      "  warnings.warn(\n",
      "C:\\Users\\Rudrani\\anaconda3\\lib\\site-packages\\cupy\\_environment.py:213: UserWarning: CUDA path could not be detected. Set CUDA_PATH environment variable if CuPy fails to load.\n",
      "  warnings.warn(\n",
      "C:\\Users\\Rudrani\\anaconda3\\lib\\site-packages\\cupy\\_environment.py:213: UserWarning: CUDA path could not be detected. Set CUDA_PATH environment variable if CuPy fails to load.\n",
      "  warnings.warn(\n"
     ]
    }
   ],
   "source": [
    "import gensim\n",
    "import spacy\n",
    "nlp=spacy.load('en_core_web_sm')"
   ]
  },
  {
   "cell_type": "code",
   "execution_count": 4,
   "id": "75d1f230",
   "metadata": {},
   "outputs": [],
   "source": [
    "#Create documents\n",
    "doc_1=('''Chat GPT is a highly popular AI-based program that people use for generating dialogues. The chatbot has a language-based model that the developer fine-tunes for human interaction in a conversational manner. \n",
    "\n",
    "It’s a simulated chatbot primarily designed for customer service; people use it for various other purposes. But what is it? If you are new to this Chat GPT, this guide is for you, so continue reading. \n",
    "\n",
    "What’s Chat GPT?\n",
    "Chat GPT is an AI chatbot auto-generative system created by Open AI for online customer care. It is a pre-trained generative chat, which makes use of (NLP) Natural Language Processing. The source of its data is textbooks, websites, and various articles, which it uses to model its own language for responding to human interaction.''')"
   ]
  },
  {
   "cell_type": "code",
   "execution_count": 5,
   "id": "bf8ffe91",
   "metadata": {},
   "outputs": [
    {
     "data": {
      "text/plain": [
       "'Chat GPT is a highly popular AI-based program that people use for generating dialogues. The chatbot has a language-based model that the developer fine-tunes for human interaction in a conversational manner. \\n\\nIt’s a simulated chatbot primarily designed for customer service; people use it for various other purposes. But what is it? If you are new to this Chat GPT, this guide is for you, so continue reading. \\n\\nWhat’s Chat GPT?\\nChat GPT is an AI chatbot auto-generative system created by Open AI for online customer care. It is a pre-trained generative chat, which makes use of (NLP) Natural Language Processing. The source of its data is textbooks, websites, and various articles, which it uses to model its own language for responding to human interaction.'"
      ]
     },
     "execution_count": 5,
     "metadata": {},
     "output_type": "execute_result"
    }
   ],
   "source": [
    "doc_1"
   ]
  },
  {
   "cell_type": "code",
   "execution_count": 6,
   "id": "591c2e89",
   "metadata": {},
   "outputs": [],
   "source": [
    "doc_2=('''To put it quite simply, this technology (and there are many others like it) is what is often called a “language machine” that uses statistics, reinforcement learning, and supervised learning to index words, phrases, and sentences. While it has no real “intelligence” (it doesn’t know what a word “means” but it knows how it is used), it can very effectively answer questions, write articles, summarize information, and more.\n",
    "\n",
    "\n",
    "\n",
    "Engines like Chat-GPT are “trained” (programmed and reinforced) to mimic writing styles, avoid certain types of conversations, and learn from your questions. In other words, the more advanced models can refine answers as you ask more questions, and then store what it learned for others.\n",
    "\n",
    "While this is not a new idea (we’ve had chatbots for a decade, including Siri, Alexa, Olivia, and more), the level of performance in GPT-3.5 (the latest version) is astounding. I’ve asked it questions like “what are the best practices for recruiting” or “how do you build a corporate training program” and it answered pretty well. Yes, the answers were quite elementary and somewhat incorrect, but with training they will clearly get better.''')"
   ]
  },
  {
   "cell_type": "code",
   "execution_count": 7,
   "id": "56dd85ca",
   "metadata": {},
   "outputs": [
    {
     "data": {
      "text/plain": [
       "'To put it quite simply, this technology (and there are many others like it) is what is often called a “language machine” that uses statistics, reinforcement learning, and supervised learning to index words, phrases, and sentences. While it has no real “intelligence” (it doesn’t know what a word “means” but it knows how it is used), it can very effectively answer questions, write articles, summarize information, and more.\\n\\n\\n\\nEngines like Chat-GPT are “trained” (programmed and reinforced) to mimic writing styles, avoid certain types of conversations, and learn from your questions. In other words, the more advanced models can refine answers as you ask more questions, and then store what it learned for others.\\n\\nWhile this is not a new idea (we’ve had chatbots for a decade, including Siri, Alexa, Olivia, and more), the level of performance in GPT-3.5 (the latest version) is astounding. I’ve asked it questions like “what are the best practices for recruiting” or “how do you build a corporate training program” and it answered pretty well. Yes, the answers were quite elementary and somewhat incorrect, but with training they will clearly get better.'"
      ]
     },
     "execution_count": 7,
     "metadata": {},
     "output_type": "execute_result"
    }
   ],
   "source": [
    "doc_2"
   ]
  },
  {
   "cell_type": "code",
   "execution_count": 8,
   "id": "64d47d62",
   "metadata": {},
   "outputs": [],
   "source": [
    "doc_3=('''Launched last November by the artificial intelligence research company OpenAI, ChatGPT (\"generative pre-trained transformer\") is a free language model chatbot with a clunky name designed to interact with users in a conversational manner.\n",
    "\n",
    "It can answer questions, write an essay, craft a poem, produce a recipe, compose song lyrics, fashion a cover letter, and explain complex math problems, among other tasks.\n",
    "\n",
    "It's the next evolutionary step in predictive text systems. When writing an email or a text message, you've no doubt seen your computer or phone trying to anticipate the next word or phrase. This technology can be remarkably accurate and quite often annoying.\n",
    "\n",
    "ChatGPT is not a search engine like Google or Yahoo. It doesn't scan the internet for information. Instead, it draws from text databases consisting of books, Wikipedia entries, articles, Reddit conversations, and other forms of writing. All told, more than 300 billion words constitute its artificial brain.''')"
   ]
  },
  {
   "cell_type": "code",
   "execution_count": 9,
   "id": "962c3ca9",
   "metadata": {},
   "outputs": [
    {
     "data": {
      "text/plain": [
       "'Launched last November by the artificial intelligence research company OpenAI, ChatGPT (\"generative pre-trained transformer\") is a free language model chatbot with a clunky name designed to interact with users in a conversational manner.\\n\\nIt can answer questions, write an essay, craft a poem, produce a recipe, compose song lyrics, fashion a cover letter, and explain complex math problems, among other tasks.\\n\\nIt\\'s the next evolutionary step in predictive text systems. When writing an email or a text message, you\\'ve no doubt seen your computer or phone trying to anticipate the next word or phrase. This technology can be remarkably accurate and quite often annoying.\\n\\nChatGPT is not a search engine like Google or Yahoo. It doesn\\'t scan the internet for information. Instead, it draws from text databases consisting of books, Wikipedia entries, articles, Reddit conversations, and other forms of writing. All told, more than 300 billion words constitute its artificial brain.'"
      ]
     },
     "execution_count": 9,
     "metadata": {},
     "output_type": "execute_result"
    }
   ],
   "source": [
    "doc_3"
   ]
  },
  {
   "cell_type": "code",
   "execution_count": 10,
   "id": "2a3abcee",
   "metadata": {},
   "outputs": [],
   "source": [
    "doc_4=('''In a world where we can get almost anything with a push or a click, it is no surprise that we have shifted a lot of our social activity to digital space, like chat rooms. People craving social contact can log onto a variety of chat rooms to chat with others who want the same thing. As with every online option, there are advantages and disadvantages to choosing virtual socializing, like chat rooms, over in person. What are chat rooms pros and cons?\n",
    "\n",
    "Not having someone to chat with can be extremely difficult. Sometimes it feels like your friends and family don't understand what you are going through or don't have enough time to chat. Or you might value their perspective but worry about being a burden. Perhaps you have something personal you want to share but don't feel like you can do so with the people you're close to. Or maybe you are someone who doesn't have a ton of friends. At these times and others, online chat rooms can be appealing. However, not everyone has the same experience - or gets the same benefits - when they visit chat rooms.''')"
   ]
  },
  {
   "cell_type": "code",
   "execution_count": 11,
   "id": "2254b148",
   "metadata": {},
   "outputs": [
    {
     "data": {
      "text/plain": [
       "\"In a world where we can get almost anything with a push or a click, it is no surprise that we have shifted a lot of our social activity to digital space, like chat rooms. People craving social contact can log onto a variety of chat rooms to chat with others who want the same thing. As with every online option, there are advantages and disadvantages to choosing virtual socializing, like chat rooms, over in person. What are chat rooms pros and cons?\\n\\nNot having someone to chat with can be extremely difficult. Sometimes it feels like your friends and family don't understand what you are going through or don't have enough time to chat. Or you might value their perspective but worry about being a burden. Perhaps you have something personal you want to share but don't feel like you can do so with the people you're close to. Or maybe you are someone who doesn't have a ton of friends. At these times and others, online chat rooms can be appealing. However, not everyone has the same experience - or gets the same benefits - when they visit chat rooms.\""
      ]
     },
     "execution_count": 11,
     "metadata": {},
     "output_type": "execute_result"
    }
   ],
   "source": [
    "doc_4"
   ]
  },
  {
   "cell_type": "code",
   "execution_count": 12,
   "id": "8ab6fab9",
   "metadata": {},
   "outputs": [],
   "source": [
    "#Creating a list of documents\n",
    "docs=[doc_1,doc_2,doc_3,doc_4]"
   ]
  },
  {
   "cell_type": "code",
   "execution_count": 13,
   "id": "9fe5e243",
   "metadata": {},
   "outputs": [
    {
     "data": {
      "text/plain": [
       "['Chat GPT is a highly popular AI-based program that people use for generating dialogues. The chatbot has a language-based model that the developer fine-tunes for human interaction in a conversational manner. \\n\\nIt’s a simulated chatbot primarily designed for customer service; people use it for various other purposes. But what is it? If you are new to this Chat GPT, this guide is for you, so continue reading. \\n\\nWhat’s Chat GPT?\\nChat GPT is an AI chatbot auto-generative system created by Open AI for online customer care. It is a pre-trained generative chat, which makes use of (NLP) Natural Language Processing. The source of its data is textbooks, websites, and various articles, which it uses to model its own language for responding to human interaction.',\n",
       " 'To put it quite simply, this technology (and there are many others like it) is what is often called a “language machine” that uses statistics, reinforcement learning, and supervised learning to index words, phrases, and sentences. While it has no real “intelligence” (it doesn’t know what a word “means” but it knows how it is used), it can very effectively answer questions, write articles, summarize information, and more.\\n\\n\\n\\nEngines like Chat-GPT are “trained” (programmed and reinforced) to mimic writing styles, avoid certain types of conversations, and learn from your questions. In other words, the more advanced models can refine answers as you ask more questions, and then store what it learned for others.\\n\\nWhile this is not a new idea (we’ve had chatbots for a decade, including Siri, Alexa, Olivia, and more), the level of performance in GPT-3.5 (the latest version) is astounding. I’ve asked it questions like “what are the best practices for recruiting” or “how do you build a corporate training program” and it answered pretty well. Yes, the answers were quite elementary and somewhat incorrect, but with training they will clearly get better.',\n",
       " 'Launched last November by the artificial intelligence research company OpenAI, ChatGPT (\"generative pre-trained transformer\") is a free language model chatbot with a clunky name designed to interact with users in a conversational manner.\\n\\nIt can answer questions, write an essay, craft a poem, produce a recipe, compose song lyrics, fashion a cover letter, and explain complex math problems, among other tasks.\\n\\nIt\\'s the next evolutionary step in predictive text systems. When writing an email or a text message, you\\'ve no doubt seen your computer or phone trying to anticipate the next word or phrase. This technology can be remarkably accurate and quite often annoying.\\n\\nChatGPT is not a search engine like Google or Yahoo. It doesn\\'t scan the internet for information. Instead, it draws from text databases consisting of books, Wikipedia entries, articles, Reddit conversations, and other forms of writing. All told, more than 300 billion words constitute its artificial brain.',\n",
       " \"In a world where we can get almost anything with a push or a click, it is no surprise that we have shifted a lot of our social activity to digital space, like chat rooms. People craving social contact can log onto a variety of chat rooms to chat with others who want the same thing. As with every online option, there are advantages and disadvantages to choosing virtual socializing, like chat rooms, over in person. What are chat rooms pros and cons?\\n\\nNot having someone to chat with can be extremely difficult. Sometimes it feels like your friends and family don't understand what you are going through or don't have enough time to chat. Or you might value their perspective but worry about being a burden. Perhaps you have something personal you want to share but don't feel like you can do so with the people you're close to. Or maybe you are someone who doesn't have a ton of friends. At these times and others, online chat rooms can be appealing. However, not everyone has the same experience - or gets the same benefits - when they visit chat rooms.\"]"
      ]
     },
     "execution_count": 13,
     "metadata": {},
     "output_type": "execute_result"
    }
   ],
   "source": [
    "docs"
   ]
  },
  {
   "cell_type": "code",
   "execution_count": 14,
   "id": "f8aa19af",
   "metadata": {},
   "outputs": [],
   "source": [
    "#Choosing tokens\n",
    "texts=[]\n",
    "for document in docs:\n",
    "    doc=nlp(document)\n",
    "    text=[]\n",
    "    for token in doc:\n",
    "        if not token.is_stop and not token.is_punct and not token.like_num:\n",
    "            text.append(token.lemma_)#root form\n",
    "    texts.append(text)"
   ]
  },
  {
   "cell_type": "code",
   "execution_count": 15,
   "id": "5ef1f0ac",
   "metadata": {},
   "outputs": [
    {
     "name": "stdout",
     "output_type": "stream",
     "text": [
      "[['Chat', 'GPT', 'highly', 'popular', 'AI', 'base', 'program', 'people', 'use', 'generating', 'dialogue', 'chatbot', 'language', 'base', 'model', 'developer', 'fine', 'tune', 'human', 'interaction', 'conversational', 'manner', '\\n\\n', 'simulated', 'chatbot', 'primarily', 'design', 'customer', 'service', 'people', 'use', 'purpose', 'new', 'Chat', 'GPT', 'guide', 'continue', 'read', '\\n\\n', 'Chat', 'GPT', '\\n', 'Chat', 'GPT', 'AI', 'chatbot', 'auto', 'generative', 'system', 'create', 'Open', 'AI', 'online', 'customer', 'care', 'pre', 'train', 'generative', 'chat', 'make', 'use', 'NLP', 'Natural', 'Language', 'Processing', 'source', 'data', 'textbook', 'website', 'article', 'use', 'model', 'language', 'respond', 'human', 'interaction'], ['simply', 'technology', 'like', 'call', 'language', 'machine', 'use', 'statistic', 'reinforcement', 'learning', 'supervise', 'learning', 'index', 'word', 'phrase', 'sentence', 'real', 'intelligence', 'know', 'word', 'mean', 'know', 'effectively', 'answer', 'question', 'write', 'article', 'summarize', 'information', '\\n\\n\\n\\n', 'engine', 'like', 'Chat', 'GPT', 'train', 'program', 'reinforce', 'mimic', 'writing', 'style', 'avoid', 'certain', 'type', 'conversation', 'learn', 'question', 'word', 'advanced', 'model', 'refine', 'answer', 'ask', 'question', 'store', 'learn', '\\n\\n', 'new', 'idea', 'chatbot', 'decade', 'include', 'Siri', 'Alexa', 'Olivia', 'level', 'performance', 'gpt-3.5', 'late', 'version', 'astounding', 'ask', 'question', 'like', 'good', 'practice', 'recruit', 'build', 'corporate', 'training', 'program', 'answer', 'pretty', 'yes', 'answer', 'elementary', 'somewhat', 'incorrect', 'training', 'clearly', 'well'], ['launch', 'November', 'artificial', 'intelligence', 'research', 'company', 'OpenAI', 'ChatGPT', 'generative', 'pre', 'train', 'transformer', 'free', 'language', 'model', 'chatbot', 'clunky', 'design', 'interact', 'user', 'conversational', 'manner', '\\n\\n', 'answer', 'question', 'write', 'essay', 'craft', 'poem', 'produce', 'recipe', 'compose', 'song', 'lyric', 'fashion', 'cover', 'letter', 'explain', 'complex', 'math', 'problem', 'task', '\\n\\n', 'evolutionary', 'step', 'predictive', 'text', 'system', 'write', 'email', 'text', 'message', 'doubt', 'see', 'computer', 'phone', 'try', 'anticipate', 'word', 'phrase', 'technology', 'remarkably', 'accurate', 'annoying', '\\n\\n', 'ChatGPT', 'search', 'engine', 'like', 'Google', 'Yahoo', 'scan', 'internet', 'information', 'instead', 'draw', 'text', 'database', 'consist', 'book', 'Wikipedia', 'entry', 'article', 'reddit', 'conversation', 'form', 'writing', 'tell', 'word', 'constitute', 'artificial', 'brain'], ['world', 'push', 'click', 'surprise', 'shift', 'lot', 'social', 'activity', 'digital', 'space', 'like', 'chat', 'room', 'People', 'crave', 'social', 'contact', 'log', 'variety', 'chat', 'room', 'chat', 'want', 'thing', 'online', 'option', 'advantage', 'disadvantage', 'choose', 'virtual', 'socializing', 'like', 'chat', 'room', 'person', 'chat', 'room', 'pro', 'con', '\\n\\n', 'have', 'chat', 'extremely', 'difficult', 'feel', 'like', 'friend', 'family', 'understand', 'go', 'time', 'chat', 'value', 'perspective', 'worry', 'burden', 'personal', 'want', 'share', 'feel', 'like', 'people', 'close', 'maybe', 'ton', 'friend', 'time', 'online', 'chat', 'room', 'appeal', 'experience', 'get', 'benefit', 'visit', 'chat', 'room']]\n"
     ]
    }
   ],
   "source": [
    "print(texts)"
   ]
  },
  {
   "cell_type": "code",
   "execution_count": 16,
   "id": "9a0a6d26",
   "metadata": {},
   "outputs": [
    {
     "name": "stdout",
     "output_type": "stream",
     "text": [
      "4\n"
     ]
    }
   ],
   "source": [
    "print(len(texts))"
   ]
  },
  {
   "cell_type": "code",
   "execution_count": 17,
   "id": "a774fc61",
   "metadata": {},
   "outputs": [
    {
     "name": "stdout",
     "output_type": "stream",
     "text": [
      "76 90 92 77\n"
     ]
    }
   ],
   "source": [
    "print(len(texts[0]),len(texts[1]),len(texts[2]),len(texts[3]))"
   ]
  },
  {
   "cell_type": "code",
   "execution_count": 18,
   "id": "029b0b9b",
   "metadata": {},
   "outputs": [],
   "source": [
    "#Creation of a corpus\n",
    "#A corpus is a collection of documents in a dictionary"
   ]
  },
  {
   "cell_type": "code",
   "execution_count": 19,
   "id": "f80dec86",
   "metadata": {},
   "outputs": [],
   "source": [
    "from gensim.corpora import Dictionary\n"
   ]
  },
  {
   "cell_type": "code",
   "execution_count": 20,
   "id": "00aceddb",
   "metadata": {},
   "outputs": [],
   "source": [
    "dict_1=Dictionary(texts)"
   ]
  },
  {
   "cell_type": "code",
   "execution_count": 21,
   "id": "627483f2",
   "metadata": {},
   "outputs": [
    {
     "data": {
      "text/plain": [
       "<gensim.corpora.dictionary.Dictionary at 0x1f598bd9bb0>"
      ]
     },
     "execution_count": 21,
     "metadata": {},
     "output_type": "execute_result"
    }
   ],
   "source": [
    "dict_1"
   ]
  },
  {
   "cell_type": "code",
   "execution_count": 22,
   "id": "c205883f",
   "metadata": {},
   "outputs": [
    {
     "name": "stdout",
     "output_type": "stream",
     "text": [
      "{'\\n': 0, '\\n\\n': 1, 'AI': 2, 'Chat': 3, 'GPT': 4, 'Language': 5, 'NLP': 6, 'Natural': 7, 'Open': 8, 'Processing': 9, 'article': 10, 'auto': 11, 'base': 12, 'care': 13, 'chat': 14, 'chatbot': 15, 'continue': 16, 'conversational': 17, 'create': 18, 'customer': 19, 'data': 20, 'design': 21, 'developer': 22, 'dialogue': 23, 'fine': 24, 'generating': 25, 'generative': 26, 'guide': 27, 'highly': 28, 'human': 29, 'interaction': 30, 'language': 31, 'make': 32, 'manner': 33, 'model': 34, 'new': 35, 'online': 36, 'people': 37, 'popular': 38, 'pre': 39, 'primarily': 40, 'program': 41, 'purpose': 42, 'read': 43, 'respond': 44, 'service': 45, 'simulated': 46, 'source': 47, 'system': 48, 'textbook': 49, 'train': 50, 'tune': 51, 'use': 52, 'website': 53, '\\n\\n\\n\\n': 54, 'Alexa': 55, 'Olivia': 56, 'Siri': 57, 'advanced': 58, 'answer': 59, 'ask': 60, 'astounding': 61, 'avoid': 62, 'build': 63, 'call': 64, 'certain': 65, 'clearly': 66, 'conversation': 67, 'corporate': 68, 'decade': 69, 'effectively': 70, 'elementary': 71, 'engine': 72, 'good': 73, 'gpt-3.5': 74, 'idea': 75, 'include': 76, 'incorrect': 77, 'index': 78, 'information': 79, 'intelligence': 80, 'know': 81, 'late': 82, 'learn': 83, 'learning': 84, 'level': 85, 'like': 86, 'machine': 87, 'mean': 88, 'mimic': 89, 'performance': 90, 'phrase': 91, 'practice': 92, 'pretty': 93, 'question': 94, 'real': 95, 'recruit': 96, 'refine': 97, 'reinforce': 98, 'reinforcement': 99, 'sentence': 100, 'simply': 101, 'somewhat': 102, 'statistic': 103, 'store': 104, 'style': 105, 'summarize': 106, 'supervise': 107, 'technology': 108, 'training': 109, 'type': 110, 'version': 111, 'well': 112, 'word': 113, 'write': 114, 'writing': 115, 'yes': 116, 'ChatGPT': 117, 'Google': 118, 'November': 119, 'OpenAI': 120, 'Wikipedia': 121, 'Yahoo': 122, 'accurate': 123, 'annoying': 124, 'anticipate': 125, 'artificial': 126, 'book': 127, 'brain': 128, 'clunky': 129, 'company': 130, 'complex': 131, 'compose': 132, 'computer': 133, 'consist': 134, 'constitute': 135, 'cover': 136, 'craft': 137, 'database': 138, 'doubt': 139, 'draw': 140, 'email': 141, 'entry': 142, 'essay': 143, 'evolutionary': 144, 'explain': 145, 'fashion': 146, 'form': 147, 'free': 148, 'instead': 149, 'interact': 150, 'internet': 151, 'launch': 152, 'letter': 153, 'lyric': 154, 'math': 155, 'message': 156, 'phone': 157, 'poem': 158, 'predictive': 159, 'problem': 160, 'produce': 161, 'recipe': 162, 'reddit': 163, 'remarkably': 164, 'research': 165, 'scan': 166, 'search': 167, 'see': 168, 'song': 169, 'step': 170, 'task': 171, 'tell': 172, 'text': 173, 'transformer': 174, 'try': 175, 'user': 176, 'People': 177, 'activity': 178, 'advantage': 179, 'appeal': 180, 'benefit': 181, 'burden': 182, 'choose': 183, 'click': 184, 'close': 185, 'con': 186, 'contact': 187, 'crave': 188, 'difficult': 189, 'digital': 190, 'disadvantage': 191, 'experience': 192, 'extremely': 193, 'family': 194, 'feel': 195, 'friend': 196, 'get': 197, 'go': 198, 'have': 199, 'log': 200, 'lot': 201, 'maybe': 202, 'option': 203, 'person': 204, 'personal': 205, 'perspective': 206, 'pro': 207, 'push': 208, 'room': 209, 'share': 210, 'shift': 211, 'social': 212, 'socializing': 213, 'space': 214, 'surprise': 215, 'thing': 216, 'time': 217, 'ton': 218, 'understand': 219, 'value': 220, 'variety': 221, 'virtual': 222, 'visit': 223, 'want': 224, 'world': 225, 'worry': 226}\n"
     ]
    }
   ],
   "source": [
    "#Giving an ID to each token\n",
    "print(dict_1.token2id)#to attach each token occurences to each ID"
   ]
  },
  {
   "cell_type": "code",
   "execution_count": 23,
   "id": "a7b262f2",
   "metadata": {},
   "outputs": [
    {
     "name": "stdout",
     "output_type": "stream",
     "text": [
      "227\n"
     ]
    }
   ],
   "source": [
    "print(len(dict_1))"
   ]
  },
  {
   "cell_type": "code",
   "execution_count": 24,
   "id": "204912c2",
   "metadata": {},
   "outputs": [],
   "source": [
    "#Bag of words\n",
    "bow_vec=[]\n",
    "for token in texts:\n",
    "    bow_vec.append(dict_1.doc2bow(token))"
   ]
  },
  {
   "cell_type": "code",
   "execution_count": 25,
   "id": "d54885a1",
   "metadata": {},
   "outputs": [
    {
     "name": "stdout",
     "output_type": "stream",
     "text": [
      "[[(0, 1), (1, 2), (2, 3), (3, 4), (4, 4), (5, 1), (6, 1), (7, 1), (8, 1), (9, 1), (10, 1), (11, 1), (12, 2), (13, 1), (14, 1), (15, 3), (16, 1), (17, 1), (18, 1), (19, 2), (20, 1), (21, 1), (22, 1), (23, 1), (24, 1), (25, 1), (26, 2), (27, 1), (28, 1), (29, 2), (30, 2), (31, 2), (32, 1), (33, 1), (34, 2), (35, 1), (36, 1), (37, 2), (38, 1), (39, 1), (40, 1), (41, 1), (42, 1), (43, 1), (44, 1), (45, 1), (46, 1), (47, 1), (48, 1), (49, 1), (50, 1), (51, 1), (52, 4), (53, 1)], [(1, 1), (3, 1), (4, 1), (10, 1), (15, 1), (31, 1), (34, 1), (35, 1), (41, 2), (50, 1), (52, 1), (54, 1), (55, 1), (56, 1), (57, 1), (58, 1), (59, 4), (60, 2), (61, 1), (62, 1), (63, 1), (64, 1), (65, 1), (66, 1), (67, 1), (68, 1), (69, 1), (70, 1), (71, 1), (72, 1), (73, 1), (74, 1), (75, 1), (76, 1), (77, 1), (78, 1), (79, 1), (80, 1), (81, 2), (82, 1), (83, 2), (84, 2), (85, 1), (86, 3), (87, 1), (88, 1), (89, 1), (90, 1), (91, 1), (92, 1), (93, 1), (94, 4), (95, 1), (96, 1), (97, 1), (98, 1), (99, 1), (100, 1), (101, 1), (102, 1), (103, 1), (104, 1), (105, 1), (106, 1), (107, 1), (108, 1), (109, 2), (110, 1), (111, 1), (112, 1), (113, 3), (114, 1), (115, 1), (116, 1)], [(1, 3), (10, 1), (15, 1), (17, 1), (21, 1), (26, 1), (31, 1), (33, 1), (34, 1), (39, 1), (48, 1), (50, 1), (59, 1), (67, 1), (72, 1), (79, 1), (80, 1), (86, 1), (91, 1), (94, 1), (108, 1), (113, 2), (114, 2), (115, 1), (117, 2), (118, 1), (119, 1), (120, 1), (121, 1), (122, 1), (123, 1), (124, 1), (125, 1), (126, 2), (127, 1), (128, 1), (129, 1), (130, 1), (131, 1), (132, 1), (133, 1), (134, 1), (135, 1), (136, 1), (137, 1), (138, 1), (139, 1), (140, 1), (141, 1), (142, 1), (143, 1), (144, 1), (145, 1), (146, 1), (147, 1), (148, 1), (149, 1), (150, 1), (151, 1), (152, 1), (153, 1), (154, 1), (155, 1), (156, 1), (157, 1), (158, 1), (159, 1), (160, 1), (161, 1), (162, 1), (163, 1), (164, 1), (165, 1), (166, 1), (167, 1), (168, 1), (169, 1), (170, 1), (171, 1), (172, 1), (173, 3), (174, 1), (175, 1), (176, 1)], [(1, 1), (14, 9), (36, 2), (37, 1), (86, 4), (177, 1), (178, 1), (179, 1), (180, 1), (181, 1), (182, 1), (183, 1), (184, 1), (185, 1), (186, 1), (187, 1), (188, 1), (189, 1), (190, 1), (191, 1), (192, 1), (193, 1), (194, 1), (195, 2), (196, 2), (197, 1), (198, 1), (199, 1), (200, 1), (201, 1), (202, 1), (203, 1), (204, 1), (205, 1), (206, 1), (207, 1), (208, 1), (209, 6), (210, 1), (211, 1), (212, 2), (213, 1), (214, 1), (215, 1), (216, 1), (217, 2), (218, 1), (219, 1), (220, 1), (221, 1), (222, 1), (223, 1), (224, 2), (225, 1), (226, 1)]]\n"
     ]
    }
   ],
   "source": [
    "print(bow_vec)#occurences of each ID"
   ]
  },
  {
   "cell_type": "code",
   "execution_count": 26,
   "id": "f0f07822",
   "metadata": {},
   "outputs": [
    {
     "name": "stdout",
     "output_type": "stream",
     "text": [
      "4\n"
     ]
    }
   ],
   "source": [
    "print(len(bow_vec))"
   ]
  },
  {
   "cell_type": "code",
   "execution_count": 27,
   "id": "92b8bd34",
   "metadata": {},
   "outputs": [
    {
     "name": "stdout",
     "output_type": "stream",
     "text": [
      "54 74 84 55\n"
     ]
    }
   ],
   "source": [
    "print(len(bow_vec[0]),len(bow_vec[1]),len(bow_vec[2]),len(bow_vec[3]))"
   ]
  },
  {
   "cell_type": "code",
   "execution_count": 34,
   "id": "c010af6b",
   "metadata": {},
   "outputs": [
    {
     "name": "stdout",
     "output_type": "stream",
     "text": [
      "[[1. 0. 0. 0.]\n",
      " [2. 1. 3. 1.]\n",
      " [3. 0. 0. 0.]\n",
      " [4. 1. 0. 0.]\n",
      " [4. 1. 0. 0.]\n",
      " [1. 0. 0. 0.]\n",
      " [1. 0. 0. 0.]\n",
      " [1. 0. 0. 0.]\n",
      " [1. 0. 0. 0.]\n",
      " [1. 0. 0. 0.]\n",
      " [1. 1. 1. 0.]\n",
      " [1. 0. 0. 0.]\n",
      " [2. 0. 0. 0.]\n",
      " [1. 0. 0. 0.]\n",
      " [1. 0. 0. 9.]\n",
      " [3. 1. 1. 0.]\n",
      " [1. 0. 0. 0.]\n",
      " [1. 0. 1. 0.]\n",
      " [1. 0. 0. 0.]\n",
      " [2. 0. 0. 0.]\n",
      " [1. 0. 0. 0.]\n",
      " [1. 0. 1. 0.]\n",
      " [1. 0. 0. 0.]\n",
      " [1. 0. 0. 0.]\n",
      " [1. 0. 0. 0.]\n",
      " [1. 0. 0. 0.]\n",
      " [2. 0. 1. 0.]\n",
      " [1. 0. 0. 0.]\n",
      " [1. 0. 0. 0.]\n",
      " [2. 0. 0. 0.]\n",
      " [2. 0. 0. 0.]\n",
      " [2. 1. 1. 0.]\n",
      " [1. 0. 0. 0.]\n",
      " [1. 0. 1. 0.]\n",
      " [2. 1. 1. 0.]\n",
      " [1. 1. 0. 0.]\n",
      " [1. 0. 0. 2.]\n",
      " [2. 0. 0. 1.]\n",
      " [1. 0. 0. 0.]\n",
      " [1. 0. 1. 0.]\n",
      " [1. 0. 0. 0.]\n",
      " [1. 2. 0. 0.]\n",
      " [1. 0. 0. 0.]\n",
      " [1. 0. 0. 0.]\n",
      " [1. 0. 0. 0.]\n",
      " [1. 0. 0. 0.]\n",
      " [1. 0. 0. 0.]\n",
      " [1. 0. 0. 0.]\n",
      " [1. 0. 1. 0.]\n",
      " [1. 0. 0. 0.]\n",
      " [1. 1. 1. 0.]\n",
      " [1. 0. 0. 0.]\n",
      " [4. 1. 0. 0.]\n",
      " [1. 0. 0. 0.]\n",
      " [0. 1. 0. 0.]\n",
      " [0. 1. 0. 0.]\n",
      " [0. 1. 0. 0.]\n",
      " [0. 1. 0. 0.]\n",
      " [0. 1. 0. 0.]\n",
      " [0. 4. 1. 0.]\n",
      " [0. 2. 0. 0.]\n",
      " [0. 1. 0. 0.]\n",
      " [0. 1. 0. 0.]\n",
      " [0. 1. 0. 0.]\n",
      " [0. 1. 0. 0.]\n",
      " [0. 1. 0. 0.]\n",
      " [0. 1. 0. 0.]\n",
      " [0. 1. 1. 0.]\n",
      " [0. 1. 0. 0.]\n",
      " [0. 1. 0. 0.]\n",
      " [0. 1. 0. 0.]\n",
      " [0. 1. 0. 0.]\n",
      " [0. 1. 1. 0.]\n",
      " [0. 1. 0. 0.]\n",
      " [0. 1. 0. 0.]\n",
      " [0. 1. 0. 0.]\n",
      " [0. 1. 0. 0.]\n",
      " [0. 1. 0. 0.]\n",
      " [0. 1. 0. 0.]\n",
      " [0. 1. 1. 0.]\n",
      " [0. 1. 1. 0.]\n",
      " [0. 2. 0. 0.]\n",
      " [0. 1. 0. 0.]\n",
      " [0. 2. 0. 0.]\n",
      " [0. 2. 0. 0.]\n",
      " [0. 1. 0. 0.]\n",
      " [0. 3. 1. 4.]\n",
      " [0. 1. 0. 0.]\n",
      " [0. 1. 0. 0.]\n",
      " [0. 1. 0. 0.]\n",
      " [0. 1. 0. 0.]\n",
      " [0. 1. 1. 0.]\n",
      " [0. 1. 0. 0.]\n",
      " [0. 1. 0. 0.]\n",
      " [0. 4. 1. 0.]\n",
      " [0. 1. 0. 0.]\n",
      " [0. 1. 0. 0.]\n",
      " [0. 1. 0. 0.]\n",
      " [0. 1. 0. 0.]\n",
      " [0. 1. 0. 0.]\n",
      " [0. 1. 0. 0.]\n",
      " [0. 1. 0. 0.]\n",
      " [0. 1. 0. 0.]\n",
      " [0. 1. 0. 0.]\n",
      " [0. 1. 0. 0.]\n",
      " [0. 1. 0. 0.]\n",
      " [0. 1. 0. 0.]\n",
      " [0. 1. 0. 0.]\n",
      " [0. 1. 1. 0.]\n",
      " [0. 2. 0. 0.]\n",
      " [0. 1. 0. 0.]\n",
      " [0. 1. 0. 0.]\n",
      " [0. 1. 0. 0.]\n",
      " [0. 3. 2. 0.]\n",
      " [0. 1. 2. 0.]\n",
      " [0. 1. 1. 0.]\n",
      " [0. 1. 0. 0.]\n",
      " [0. 0. 2. 0.]\n",
      " [0. 0. 1. 0.]\n",
      " [0. 0. 1. 0.]\n",
      " [0. 0. 1. 0.]\n",
      " [0. 0. 1. 0.]\n",
      " [0. 0. 1. 0.]\n",
      " [0. 0. 1. 0.]\n",
      " [0. 0. 1. 0.]\n",
      " [0. 0. 1. 0.]\n",
      " [0. 0. 2. 0.]\n",
      " [0. 0. 1. 0.]\n",
      " [0. 0. 1. 0.]\n",
      " [0. 0. 1. 0.]\n",
      " [0. 0. 1. 0.]\n",
      " [0. 0. 1. 0.]\n",
      " [0. 0. 1. 0.]\n",
      " [0. 0. 1. 0.]\n",
      " [0. 0. 1. 0.]\n",
      " [0. 0. 1. 0.]\n",
      " [0. 0. 1. 0.]\n",
      " [0. 0. 1. 0.]\n",
      " [0. 0. 1. 0.]\n",
      " [0. 0. 1. 0.]\n",
      " [0. 0. 1. 0.]\n",
      " [0. 0. 1. 0.]\n",
      " [0. 0. 1. 0.]\n",
      " [0. 0. 1. 0.]\n",
      " [0. 0. 1. 0.]\n",
      " [0. 0. 1. 0.]\n",
      " [0. 0. 1. 0.]\n",
      " [0. 0. 1. 0.]\n",
      " [0. 0. 1. 0.]\n",
      " [0. 0. 1. 0.]\n",
      " [0. 0. 1. 0.]\n",
      " [0. 0. 1. 0.]\n",
      " [0. 0. 1. 0.]\n",
      " [0. 0. 1. 0.]\n",
      " [0. 0. 1. 0.]\n",
      " [0. 0. 1. 0.]\n",
      " [0. 0. 1. 0.]\n",
      " [0. 0. 1. 0.]\n",
      " [0. 0. 1. 0.]\n",
      " [0. 0. 1. 0.]\n",
      " [0. 0. 1. 0.]\n",
      " [0. 0. 1. 0.]\n",
      " [0. 0. 1. 0.]\n",
      " [0. 0. 1. 0.]\n",
      " [0. 0. 1. 0.]\n",
      " [0. 0. 1. 0.]\n",
      " [0. 0. 1. 0.]\n",
      " [0. 0. 1. 0.]\n",
      " [0. 0. 1. 0.]\n",
      " [0. 0. 1. 0.]\n",
      " [0. 0. 1. 0.]\n",
      " [0. 0. 1. 0.]\n",
      " [0. 0. 1. 0.]\n",
      " [0. 0. 3. 0.]\n",
      " [0. 0. 1. 0.]\n",
      " [0. 0. 1. 0.]\n",
      " [0. 0. 1. 0.]\n",
      " [0. 0. 0. 1.]\n",
      " [0. 0. 0. 1.]\n",
      " [0. 0. 0. 1.]\n",
      " [0. 0. 0. 1.]\n",
      " [0. 0. 0. 1.]\n",
      " [0. 0. 0. 1.]\n",
      " [0. 0. 0. 1.]\n",
      " [0. 0. 0. 1.]\n",
      " [0. 0. 0. 1.]\n",
      " [0. 0. 0. 1.]\n",
      " [0. 0. 0. 1.]\n",
      " [0. 0. 0. 1.]\n",
      " [0. 0. 0. 1.]\n",
      " [0. 0. 0. 1.]\n",
      " [0. 0. 0. 1.]\n",
      " [0. 0. 0. 1.]\n",
      " [0. 0. 0. 1.]\n",
      " [0. 0. 0. 1.]\n",
      " [0. 0. 0. 2.]\n",
      " [0. 0. 0. 2.]\n",
      " [0. 0. 0. 1.]\n",
      " [0. 0. 0. 1.]\n",
      " [0. 0. 0. 1.]\n",
      " [0. 0. 0. 1.]\n",
      " [0. 0. 0. 1.]\n",
      " [0. 0. 0. 1.]\n",
      " [0. 0. 0. 1.]\n",
      " [0. 0. 0. 1.]\n",
      " [0. 0. 0. 1.]\n",
      " [0. 0. 0. 1.]\n",
      " [0. 0. 0. 1.]\n",
      " [0. 0. 0. 1.]\n",
      " [0. 0. 0. 6.]\n",
      " [0. 0. 0. 1.]\n",
      " [0. 0. 0. 1.]\n",
      " [0. 0. 0. 2.]\n",
      " [0. 0. 0. 1.]\n",
      " [0. 0. 0. 1.]\n",
      " [0. 0. 0. 1.]\n",
      " [0. 0. 0. 1.]\n",
      " [0. 0. 0. 2.]\n",
      " [0. 0. 0. 1.]\n",
      " [0. 0. 0. 1.]\n",
      " [0. 0. 0. 1.]\n",
      " [0. 0. 0. 1.]\n",
      " [0. 0. 0. 1.]\n",
      " [0. 0. 0. 1.]\n",
      " [0. 0. 0. 2.]\n",
      " [0. 0. 0. 1.]\n",
      " [0. 0. 0. 1.]]\n"
     ]
    }
   ],
   "source": [
    "#matrix representation\n",
    "from gensim import matutils\n",
    "bow_matrix=matutils.corpus2dense(bow_vec,num_terms=len(dict_1))\n",
    "print(bow_matrix)"
   ]
  },
  {
   "cell_type": "code",
   "execution_count": 35,
   "id": "40601f7c",
   "metadata": {},
   "outputs": [
    {
     "data": {
      "text/plain": [
       "(227, 4)"
      ]
     },
     "execution_count": 35,
     "metadata": {},
     "output_type": "execute_result"
    }
   ],
   "source": [
    "bow_matrix.shape"
   ]
  },
  {
   "cell_type": "code",
   "execution_count": 28,
   "id": "c98c86e2",
   "metadata": {},
   "outputs": [],
   "source": [
    "#TFIDF\n",
    "#Term Freq Inv Doc Freq\n",
    "#Cat sat on the mat->no of 'CAT'->1/tot words->1/3(TERM FREQ)\n",
    "#Cat is of white colour(another sentence)->2/tot no of docs->2/3)(DOC FREQ)\n",
    "#inverse of doc freq->1/(2/3)=3/2\n",
    "\n"
   ]
  },
  {
   "cell_type": "code",
   "execution_count": 29,
   "id": "e8273cd1",
   "metadata": {},
   "outputs": [],
   "source": [
    "from gensim.models import TfidfModel\n",
    "tfidf=TfidfModel(bow_vec)\n"
   ]
  },
  {
   "cell_type": "code",
   "execution_count": 30,
   "id": "9be8222a",
   "metadata": {},
   "outputs": [
    {
     "data": {
      "text/plain": [
       "<gensim.models.tfidfmodel.TfidfModel at 0x1f590e1feb0>"
      ]
     },
     "execution_count": 30,
     "metadata": {},
     "output_type": "execute_result"
    }
   ],
   "source": [
    "tfidf"
   ]
  },
  {
   "cell_type": "code",
   "execution_count": 31,
   "id": "11154eca",
   "metadata": {},
   "outputs": [],
   "source": [
    "tfidf_vec=[]\n",
    "for vec in bow_vec:\n",
    "    tfidf_vec.append(tfidf[vec])"
   ]
  },
  {
   "cell_type": "code",
   "execution_count": 32,
   "id": "a397ad31",
   "metadata": {},
   "outputs": [
    {
     "name": "stdout",
     "output_type": "stream",
     "text": [
      "[[(0, 0.11862119404814646), (2, 0.35586358214443936), (3, 0.23724238809629292), (4, 0.23724238809629292), (5, 0.11862119404814646), (6, 0.11862119404814646), (7, 0.11862119404814646), (8, 0.11862119404814646), (9, 0.11862119404814646), (10, 0.024616121869606582), (11, 0.11862119404814646), (12, 0.23724238809629292), (13, 0.11862119404814646), (14, 0.05931059702407323), (15, 0.07384836560881974), (16, 0.11862119404814646), (17, 0.05931059702407323), (18, 0.11862119404814646), (19, 0.23724238809629292), (20, 0.11862119404814646), (21, 0.05931059702407323), (22, 0.11862119404814646), (23, 0.11862119404814646), (24, 0.11862119404814646), (25, 0.11862119404814646), (26, 0.11862119404814646), (27, 0.11862119404814646), (28, 0.11862119404814646), (29, 0.23724238809629292), (30, 0.23724238809629292), (31, 0.049232243739213165), (32, 0.11862119404814646), (33, 0.05931059702407323), (34, 0.049232243739213165), (35, 0.05931059702407323), (36, 0.05931059702407323), (37, 0.11862119404814646), (38, 0.11862119404814646), (39, 0.05931059702407323), (40, 0.11862119404814646), (41, 0.05931059702407323), (42, 0.11862119404814646), (43, 0.11862119404814646), (44, 0.11862119404814646), (45, 0.11862119404814646), (46, 0.11862119404814646), (47, 0.11862119404814646), (48, 0.05931059702407323), (49, 0.11862119404814646), (50, 0.024616121869606582), (51, 0.11862119404814646), (52, 0.23724238809629292), (53, 0.11862119404814646)], [(3, 0.0556060714090316), (4, 0.0556060714090316), (10, 0.023078604822325283), (15, 0.023078604822325283), (31, 0.023078604822325283), (34, 0.023078604822325283), (35, 0.0556060714090316), (41, 0.1112121428180632), (50, 0.023078604822325283), (52, 0.0556060714090316), (54, 0.1112121428180632), (55, 0.1112121428180632), (56, 0.1112121428180632), (57, 0.1112121428180632), (58, 0.1112121428180632), (59, 0.2224242856361264), (60, 0.2224242856361264), (61, 0.1112121428180632), (62, 0.1112121428180632), (63, 0.1112121428180632), (64, 0.1112121428180632), (65, 0.1112121428180632), (66, 0.1112121428180632), (67, 0.0556060714090316), (68, 0.1112121428180632), (69, 0.1112121428180632), (70, 0.1112121428180632), (71, 0.1112121428180632), (72, 0.0556060714090316), (73, 0.1112121428180632), (74, 0.1112121428180632), (75, 0.1112121428180632), (76, 0.1112121428180632), (77, 0.1112121428180632), (78, 0.1112121428180632), (79, 0.0556060714090316), (80, 0.0556060714090316), (81, 0.2224242856361264), (82, 0.1112121428180632), (83, 0.2224242856361264), (84, 0.2224242856361264), (85, 0.1112121428180632), (86, 0.06923581446697585), (87, 0.1112121428180632), (88, 0.1112121428180632), (89, 0.1112121428180632), (90, 0.1112121428180632), (91, 0.0556060714090316), (92, 0.1112121428180632), (93, 0.1112121428180632), (94, 0.2224242856361264), (95, 0.1112121428180632), (96, 0.1112121428180632), (97, 0.1112121428180632), (98, 0.1112121428180632), (99, 0.1112121428180632), (100, 0.1112121428180632), (101, 0.1112121428180632), (102, 0.1112121428180632), (103, 0.1112121428180632), (104, 0.1112121428180632), (105, 0.1112121428180632), (106, 0.1112121428180632), (107, 0.1112121428180632), (108, 0.0556060714090316), (109, 0.2224242856361264), (110, 0.1112121428180632), (111, 0.1112121428180632), (112, 0.1112121428180632), (113, 0.1668182142270948), (114, 0.0556060714090316), (115, 0.0556060714090316), (116, 0.1112121428180632)], [(10, 0.023200085859963734), (15, 0.023200085859963734), (17, 0.05589877035274038), (21, 0.05589877035274038), (26, 0.05589877035274038), (31, 0.023200085859963734), (33, 0.05589877035274038), (34, 0.023200085859963734), (39, 0.05589877035274038), (48, 0.05589877035274038), (50, 0.023200085859963734), (59, 0.05589877035274038), (67, 0.05589877035274038), (72, 0.05589877035274038), (79, 0.05589877035274038), (80, 0.05589877035274038), (86, 0.023200085859963734), (91, 0.05589877035274038), (94, 0.05589877035274038), (108, 0.05589877035274038), (113, 0.11179754070548076), (114, 0.11179754070548076), (115, 0.05589877035274038), (117, 0.22359508141096152), (118, 0.11179754070548076), (119, 0.11179754070548076), (120, 0.11179754070548076), (121, 0.11179754070548076), (122, 0.11179754070548076), (123, 0.11179754070548076), (124, 0.11179754070548076), (125, 0.11179754070548076), (126, 0.22359508141096152), (127, 0.11179754070548076), (128, 0.11179754070548076), (129, 0.11179754070548076), (130, 0.11179754070548076), (131, 0.11179754070548076), (132, 0.11179754070548076), (133, 0.11179754070548076), (134, 0.11179754070548076), (135, 0.11179754070548076), (136, 0.11179754070548076), (137, 0.11179754070548076), (138, 0.11179754070548076), (139, 0.11179754070548076), (140, 0.11179754070548076), (141, 0.11179754070548076), (142, 0.11179754070548076), (143, 0.11179754070548076), (144, 0.11179754070548076), (145, 0.11179754070548076), (146, 0.11179754070548076), (147, 0.11179754070548076), (148, 0.11179754070548076), (149, 0.11179754070548076), (150, 0.11179754070548076), (151, 0.11179754070548076), (152, 0.11179754070548076), (153, 0.11179754070548076), (154, 0.11179754070548076), (155, 0.11179754070548076), (156, 0.11179754070548076), (157, 0.11179754070548076), (158, 0.11179754070548076), (159, 0.11179754070548076), (160, 0.11179754070548076), (161, 0.11179754070548076), (162, 0.11179754070548076), (163, 0.11179754070548076), (164, 0.11179754070548076), (165, 0.11179754070548076), (166, 0.11179754070548076), (167, 0.11179754070548076), (168, 0.11179754070548076), (169, 0.11179754070548076), (170, 0.11179754070548076), (171, 0.11179754070548076), (172, 0.11179754070548076), (173, 0.3353926221164423), (174, 0.11179754070548076), (175, 0.11179754070548076), (176, 0.11179754070548076)], [(14, 0.407095606121014), (36, 0.09046569024911422), (37, 0.04523284512455711), (86, 0.07509330770305368), (177, 0.09046569024911422), (178, 0.09046569024911422), (179, 0.09046569024911422), (180, 0.09046569024911422), (181, 0.09046569024911422), (182, 0.09046569024911422), (183, 0.09046569024911422), (184, 0.09046569024911422), (185, 0.09046569024911422), (186, 0.09046569024911422), (187, 0.09046569024911422), (188, 0.09046569024911422), (189, 0.09046569024911422), (190, 0.09046569024911422), (191, 0.09046569024911422), (192, 0.09046569024911422), (193, 0.09046569024911422), (194, 0.09046569024911422), (195, 0.18093138049822843), (196, 0.18093138049822843), (197, 0.09046569024911422), (198, 0.09046569024911422), (199, 0.09046569024911422), (200, 0.09046569024911422), (201, 0.09046569024911422), (202, 0.09046569024911422), (203, 0.09046569024911422), (204, 0.09046569024911422), (205, 0.09046569024911422), (206, 0.09046569024911422), (207, 0.09046569024911422), (208, 0.09046569024911422), (209, 0.5427941414946853), (210, 0.09046569024911422), (211, 0.09046569024911422), (212, 0.18093138049822843), (213, 0.09046569024911422), (214, 0.09046569024911422), (215, 0.09046569024911422), (216, 0.09046569024911422), (217, 0.18093138049822843), (218, 0.09046569024911422), (219, 0.09046569024911422), (220, 0.09046569024911422), (221, 0.09046569024911422), (222, 0.09046569024911422), (223, 0.09046569024911422), (224, 0.18093138049822843), (225, 0.09046569024911422), (226, 0.09046569024911422)]]\n"
     ]
    }
   ],
   "source": [
    "print(tfidf_vec)"
   ]
  },
  {
   "cell_type": "code",
   "execution_count": 36,
   "id": "73a9226e",
   "metadata": {},
   "outputs": [],
   "source": [
    "#Similarity of docs\n",
    "from gensim.similarities import MatrixSimilarity\n",
    "sim=MatrixSimilarity(tfidf_vec,num_features=len(dict_1))"
   ]
  },
  {
   "cell_type": "code",
   "execution_count": 37,
   "id": "7872c3d9",
   "metadata": {},
   "outputs": [
    {
     "name": "stdout",
     "output_type": "stream",
     "text": [
      "[1.         0.05458339 0.02834759 0.03487623]\n"
     ]
    }
   ],
   "source": [
    "print(sim[tfidf_vec[0]])#similarity of each doc to each other, 1 is perfectly similar to 1"
   ]
  },
  {
   "cell_type": "code",
   "execution_count": 38,
   "id": "2712c608",
   "metadata": {},
   "outputs": [
    {
     "name": "stdout",
     "output_type": "stream",
     "text": [
      "[0.05458339 1.         0.07577456 0.00519915]\n"
     ]
    }
   ],
   "source": [
    "print(sim[tfidf_vec[1]])"
   ]
  },
  {
   "cell_type": "code",
   "execution_count": 39,
   "id": "e9a9ffe6",
   "metadata": {},
   "outputs": [
    {
     "name": "stdout",
     "output_type": "stream",
     "text": [
      "[0.02834759 0.07577456 1.         0.00174217]\n"
     ]
    }
   ],
   "source": [
    "print(sim[tfidf_vec[2]])"
   ]
  },
  {
   "cell_type": "code",
   "execution_count": 40,
   "id": "b88b243d",
   "metadata": {},
   "outputs": [
    {
     "name": "stdout",
     "output_type": "stream",
     "text": [
      "[0.03487623 0.00519915 0.00174217 0.99999994]\n"
     ]
    }
   ],
   "source": [
    "print(sim[tfidf_vec[3]])"
   ]
  },
  {
   "cell_type": "code",
   "execution_count": 41,
   "id": "5a0e5986",
   "metadata": {},
   "outputs": [
    {
     "data": {
      "text/plain": [
       "'Chat GPT is a highly popular AI-based program that people use for generating dialogues. The chatbot has a language-based model that the developer fine-tunes for human interaction in a conversational manner. \\n\\nIt’s a simulated chatbot primarily designed for customer service; people use it for various other purposes. But what is it? If you are new to this Chat GPT, this guide is for you, so continue reading. \\n\\nWhat’s Chat GPT?\\nChat GPT is an AI chatbot auto-generative system created by Open AI for online customer care. It is a pre-trained generative chat, which makes use of (NLP) Natural Language Processing. The source of its data is textbooks, websites, and various articles, which it uses to model its own language for responding to human interaction.'"
      ]
     },
     "execution_count": 41,
     "metadata": {},
     "output_type": "execute_result"
    }
   ],
   "source": [
    "doc_1"
   ]
  },
  {
   "cell_type": "code",
   "execution_count": 42,
   "id": "8cc7086f",
   "metadata": {},
   "outputs": [
    {
     "data": {
      "text/plain": [
       "'To put it quite simply, this technology (and there are many others like it) is what is often called a “language machine” that uses statistics, reinforcement learning, and supervised learning to index words, phrases, and sentences. While it has no real “intelligence” (it doesn’t know what a word “means” but it knows how it is used), it can very effectively answer questions, write articles, summarize information, and more.\\n\\n\\n\\nEngines like Chat-GPT are “trained” (programmed and reinforced) to mimic writing styles, avoid certain types of conversations, and learn from your questions. In other words, the more advanced models can refine answers as you ask more questions, and then store what it learned for others.\\n\\nWhile this is not a new idea (we’ve had chatbots for a decade, including Siri, Alexa, Olivia, and more), the level of performance in GPT-3.5 (the latest version) is astounding. I’ve asked it questions like “what are the best practices for recruiting” or “how do you build a corporate training program” and it answered pretty well. Yes, the answers were quite elementary and somewhat incorrect, but with training they will clearly get better.'"
      ]
     },
     "execution_count": 42,
     "metadata": {},
     "output_type": "execute_result"
    }
   ],
   "source": [
    "doc_2\n"
   ]
  },
  {
   "cell_type": "code",
   "execution_count": 43,
   "id": "665a0d16",
   "metadata": {},
   "outputs": [
    {
     "data": {
      "text/plain": [
       "'Launched last November by the artificial intelligence research company OpenAI, ChatGPT (\"generative pre-trained transformer\") is a free language model chatbot with a clunky name designed to interact with users in a conversational manner.\\n\\nIt can answer questions, write an essay, craft a poem, produce a recipe, compose song lyrics, fashion a cover letter, and explain complex math problems, among other tasks.\\n\\nIt\\'s the next evolutionary step in predictive text systems. When writing an email or a text message, you\\'ve no doubt seen your computer or phone trying to anticipate the next word or phrase. This technology can be remarkably accurate and quite often annoying.\\n\\nChatGPT is not a search engine like Google or Yahoo. It doesn\\'t scan the internet for information. Instead, it draws from text databases consisting of books, Wikipedia entries, articles, Reddit conversations, and other forms of writing. All told, more than 300 billion words constitute its artificial brain.'"
      ]
     },
     "execution_count": 43,
     "metadata": {},
     "output_type": "execute_result"
    }
   ],
   "source": [
    "doc_3"
   ]
  },
  {
   "cell_type": "code",
   "execution_count": 44,
   "id": "397cd441",
   "metadata": {},
   "outputs": [
    {
     "data": {
      "text/plain": [
       "\"In a world where we can get almost anything with a push or a click, it is no surprise that we have shifted a lot of our social activity to digital space, like chat rooms. People craving social contact can log onto a variety of chat rooms to chat with others who want the same thing. As with every online option, there are advantages and disadvantages to choosing virtual socializing, like chat rooms, over in person. What are chat rooms pros and cons?\\n\\nNot having someone to chat with can be extremely difficult. Sometimes it feels like your friends and family don't understand what you are going through or don't have enough time to chat. Or you might value their perspective but worry about being a burden. Perhaps you have something personal you want to share but don't feel like you can do so with the people you're close to. Or maybe you are someone who doesn't have a ton of friends. At these times and others, online chat rooms can be appealing. However, not everyone has the same experience - or gets the same benefits - when they visit chat rooms.\""
      ]
     },
     "execution_count": 44,
     "metadata": {},
     "output_type": "execute_result"
    }
   ],
   "source": [
    "doc_4"
   ]
  },
  {
   "cell_type": "code",
   "execution_count": null,
   "id": "faf3a9db",
   "metadata": {},
   "outputs": [],
   "source": []
  }
 ],
 "metadata": {
  "kernelspec": {
   "display_name": "Python 3 (ipykernel)",
   "language": "python",
   "name": "python3"
  },
  "language_info": {
   "codemirror_mode": {
    "name": "ipython",
    "version": 3
   },
   "file_extension": ".py",
   "mimetype": "text/x-python",
   "name": "python",
   "nbconvert_exporter": "python",
   "pygments_lexer": "ipython3",
   "version": "3.9.13"
  }
 },
 "nbformat": 4,
 "nbformat_minor": 5
}
